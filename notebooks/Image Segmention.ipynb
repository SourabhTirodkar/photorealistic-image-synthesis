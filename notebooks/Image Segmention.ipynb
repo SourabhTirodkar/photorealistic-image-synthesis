{
  "nbformat": 4,
  "nbformat_minor": 0,
  "metadata": {
    "colab": {
      "name": "Image Segmention.ipynb",
      "provenance": [],
      "collapsed_sections": []
    },
    "kernelspec": {
      "name": "python3",
      "display_name": "Python 3"
    },
    "accelerator": "GPU"
  },
  "cells": [
    {
      "cell_type": "markdown",
      "metadata": {
        "id": "6u09EIPlaK8H"
      },
      "source": [
        "# Image Segmentation\n"
      ]
    },
    {
      "cell_type": "markdown",
      "metadata": {
        "id": "VPsneYAWdA30"
      },
      "source": [
        "## Load data"
      ]
    },
    {
      "cell_type": "markdown",
      "metadata": {
        "id": "W20IJN1Kcxl7"
      },
      "source": [
        "### Mounting drive"
      ]
    },
    {
      "cell_type": "code",
      "metadata": {
        "id": "Xo3BLkUMaepA",
        "colab": {
          "base_uri": "https://localhost:8080/"
        },
        "outputId": "625f4574-6e89-4a9a-ce8b-5695571ceebf"
      },
      "source": [
        "# Mount GDrive\n",
        "\n",
        "from google.colab import drive\n",
        "drive.mount('/content/drive')"
      ],
      "execution_count": null,
      "outputs": [
        {
          "output_type": "stream",
          "text": [
            "Mounted at /content/drive\n"
          ],
          "name": "stdout"
        }
      ]
    },
    {
      "cell_type": "markdown",
      "metadata": {
        "id": "xp6_kc-Jc4Mn"
      },
      "source": [
        "### Copy and Unzip"
      ]
    },
    {
      "cell_type": "code",
      "metadata": {
        "id": "iZayEEQtajTi"
      },
      "source": [
        "# Copy the zip file and unzip in colab\n",
        "\n",
        "!cp '/content/drive/My Drive/train_256.zip' train_256.zip\n",
        "!unzip train_256.zip"
      ],
      "execution_count": null,
      "outputs": []
    },
    {
      "cell_type": "markdown",
      "metadata": {
        "id": "NrhF4Q-9dF_e"
      },
      "source": [
        "## Load CSAIL Pre-Trained model"
      ]
    },
    {
      "cell_type": "code",
      "metadata": {
        "colab": {
          "base_uri": "https://localhost:8080/"
        },
        "id": "bdZTHDY7auXI",
        "outputId": "78b5bc8e-0014-46fd-e7a6-a25d0ccafe39"
      },
      "source": [
        "# Download the code and pretrained models from CSAIL\n",
        "\n",
        "%%bash\n",
        "# Colab-specific setup\n",
        "!(stat -t /usr/local/lib/*/dist-packages/google/colab > /dev/null 2>&1) && exit \n",
        "pip install yacs 2>&1 >> install.log\n",
        "git init 2>&1 >> install.log\n",
        "git remote add origin https://github.com/CSAILVision/semantic-segmentation-pytorch.git 2>> install.log\n",
        "git pull origin master 2>&1 >> install.log\n",
        "DOWNLOAD_ONLY=1 ./demo_test.sh 2>> install.log"
      ],
      "execution_count": null,
      "outputs": [
        {
          "output_type": "stream",
          "text": [
            "From https://github.com/CSAILVision/semantic-segmentation-pytorch\n",
            " * branch            master     -> FETCH_HEAD\n",
            " * [new branch]      master     -> origin/master\n"
          ],
          "name": "stdout"
        }
      ]
    },
    {
      "cell_type": "markdown",
      "metadata": {
        "id": "6hgCx9BydUSU"
      },
      "source": [
        "## Generate Semantic Maps"
      ]
    },
    {
      "cell_type": "markdown",
      "metadata": {
        "id": "Y3UJJr93bJ3a"
      },
      "source": [
        "### Customizations\n",
        "---\n",
        "\n",
        "\n",
        "1.   Go to ./config/ade20k-resnet50dilated-ppm_deepsup.yaml and provide a result for TEST path like below \n",
        "\n",
        "\n",
        "```\n",
        "TEST:\n",
        "  checkpoint: \"epoch_20.pth\"\n",
        "  result: \"./semantic_maps/\"\n",
        "```\n",
        "2.   Open the test.py root directory and replace the visualize_result function completly with below code\n",
        "\n",
        "```\n",
        "def visualize_result(data, pred, cfg):\n",
        "    (img, info) = data\n",
        " \n",
        "    # print predictions in descending order\n",
        "    pred = np.int32(pred)\n",
        "    pixs = pred.size\n",
        "    uniques, counts = np.unique(pred, return_counts=True)\n",
        "    print(\"Predictions in [{}]:\".format(info))\n",
        "    for idx in np.argsort(counts)[::-1]:\n",
        "        name = names[uniques[idx] + 1]\n",
        "        ratio = counts[idx] / pixs * 100\n",
        "        if ratio > 0.1:\n",
        "            print(\"  {}: {:.2f}%\".format(name, ratio))\n",
        " \n",
        "    # colorize prediction\n",
        "    pred_color = colorEncode(pred, colors).astype(np.uint8)\n",
        " \n",
        "    # aggregate images and save\n",
        "    # commented lines 49 - 50 to prevent concatination <CHANGED>\n",
        "    # im_vis = np.concatenate((img, pred_color), axis=1)\n",
        "    # img_name = info.split('/')[-1]\n",
        " \n",
        "    # Added below lines from 53 - 63 <CHANGED>\n",
        "    im_vis = pred_color\n",
        "    split_info = info.split('/')\n",
        "    img_name = split_info[-1]\n",
        "    category = split_info[-2]\n",
        "    \n",
        "    subfolder = False\n",
        "    if subfolder:\n",
        "      folder_path = os.path.join(cfg.TEST.result, category)\n",
        "      if not os.path.isdir(folder_path):\n",
        "        os.makedirs(folder_path)\n",
        "    else:\n",
        "      folder_path = cfg.TEST.result\n",
        " \n",
        "    Image.fromarray(im_vis).save(\n",
        "        os.path.join(folder_path+\"/\", img_name.replace('.jpg', '.png')))\n",
        "```\n",
        "\n"
      ]
    },
    {
      "cell_type": "markdown",
      "metadata": {
        "id": "wVQF2OASfkUG"
      },
      "source": [
        "### Run the test script"
      ]
    },
    {
      "cell_type": "code",
      "metadata": {
        "id": "MzSrxaMIbD5n"
      },
      "source": [
        "!python -u test.py --imgs '/content/train_256/' | run_log.txt"
      ],
      "execution_count": null,
      "outputs": []
    },
    {
      "cell_type": "markdown",
      "metadata": {
        "id": "e-_06pEmfyAi"
      },
      "source": [
        "## Store generated maps"
      ]
    },
    {
      "cell_type": "markdown",
      "metadata": {
        "id": "s9xpls3ogaSU"
      },
      "source": [
        "### Zip the folder"
      ]
    },
    {
      "cell_type": "code",
      "metadata": {
        "id": "IoM3SSUgf3cE"
      },
      "source": [
        "zip -r semantic_maps.zip semantic_maps"
      ],
      "execution_count": null,
      "outputs": []
    },
    {
      "cell_type": "markdown",
      "metadata": {
        "id": "MXaSB1spgeNS"
      },
      "source": [
        "### Move the file to drive"
      ]
    },
    {
      "cell_type": "code",
      "metadata": {
        "id": "xNcQRafIgh9L"
      },
      "source": [
        "!cp /content/drive/MyDrive/EE599\\ Project/Final_semantic_images.zip ./"
      ],
      "execution_count": null,
      "outputs": []
    },
    {
      "cell_type": "code",
      "metadata": {
        "id": "uV75hj6K7vgW"
      },
      "source": [
        "import os\n",
        "os.chdir('/content/drive/MyDrive/EE599_Project/Datasets/train/')"
      ],
      "execution_count": null,
      "outputs": []
    },
    {
      "cell_type": "code",
      "metadata": {
        "id": "MBU2TgzC75ro"
      },
      "source": [
        "%pwd"
      ],
      "execution_count": null,
      "outputs": []
    },
    {
      "cell_type": "code",
      "metadata": {
        "id": "inxPOXPea2Gb"
      },
      "source": [
        "# !unzip /content/drive/MyDrive/EE599_Project/Datasets/train/Final_semantic_images.zip"
      ],
      "execution_count": null,
      "outputs": []
    },
    {
      "cell_type": "markdown",
      "metadata": {
        "id": "vKfUdGYvYnPh"
      },
      "source": [
        "## Label Maps generation from Segmentation maps"
      ]
    },
    {
      "cell_type": "markdown",
      "metadata": {
        "id": "Ydnj6woDYzT9"
      },
      "source": [
        "### Download colors.npy from below link and upload  file to current diretory\n",
        "[Download here](https://drive.google.com/file/d/1Blbf9nmjqPv_vtX2-sCZ6TqAKXAzgAim/view?usp=sharing)"
      ]
    },
    {
      "cell_type": "code",
      "metadata": {
        "id": "enQMoJclZxkq",
        "colab": {
          "base_uri": "https://localhost:8080/"
        },
        "outputId": "0d2423c9-bbc8-44f5-b48f-7c1e9f586a5f"
      },
      "source": [
        "import numpy as np\n",
        "with open('/content/drive/MyDrive/EE599_Project/Notebooks/colors.npy', 'rb') as f:\n",
        "    colors = np.load(f)\n",
        "\n",
        "for i,color in enumerate(colors):\n",
        "    colors[i] = [int(x) for x in color]\n",
        "    \n",
        "colors = np.array(colors)\n",
        "print(colors)"
      ],
      "execution_count": null,
      "outputs": [
        {
          "output_type": "stream",
          "text": [
            "[[120 120 120]\n",
            " [180 120 120]\n",
            " [  6 230 230]\n",
            " [ 80  50  50]\n",
            " [  4 200   3]\n",
            " [120 120  80]\n",
            " [140 140 140]\n",
            " [204   5 255]\n",
            " [230 230 230]\n",
            " [  4 250   7]\n",
            " [224   5 255]\n",
            " [235 255   7]\n",
            " [150   5  61]\n",
            " [120 120  70]\n",
            " [  8 255  51]\n",
            " [255   6  82]\n",
            " [143 255 140]\n",
            " [204 255   4]\n",
            " [255  51   7]\n",
            " [204  70   3]\n",
            " [  0 102 200]\n",
            " [ 61 230 250]\n",
            " [255   6  51]\n",
            " [ 11 102 255]\n",
            " [255   7  71]\n",
            " [255   9 224]\n",
            " [  9   7 230]\n",
            " [220 220 220]\n",
            " [255   9  92]\n",
            " [112   9 255]\n",
            " [  8 255 214]\n",
            " [  7 255 224]\n",
            " [255 184   6]\n",
            " [ 10 255  71]\n",
            " [255  41  10]\n",
            " [  7 255 255]\n",
            " [224 255   8]\n",
            " [102   8 255]\n",
            " [255  61   6]\n",
            " [255 194   7]\n",
            " [255 122   8]\n",
            " [  0 255  20]\n",
            " [255   8  41]\n",
            " [255   5 153]\n",
            " [  6  51 255]\n",
            " [235  12 255]\n",
            " [160 150  20]\n",
            " [  0 163 255]\n",
            " [140 140 140]\n",
            " [250  10  15]\n",
            " [ 20 255   0]\n",
            " [ 31 255   0]\n",
            " [255  31   0]\n",
            " [255 224   0]\n",
            " [153 255   0]\n",
            " [  0   0 255]\n",
            " [255  71   0]\n",
            " [  0 235 255]\n",
            " [  0 173 255]\n",
            " [ 31   0 255]\n",
            " [ 11 200 200]\n",
            " [255  82   0]\n",
            " [  0 255 245]\n",
            " [  0  61 255]\n",
            " [  0 255 112]\n",
            " [  0 255 133]\n",
            " [255   0   0]\n",
            " [255 163   0]\n",
            " [255 102   0]\n",
            " [194 255   0]\n",
            " [  0 143 255]\n",
            " [ 51 255   0]\n",
            " [  0  82 255]\n",
            " [  0 255  41]\n",
            " [  0 255 173]\n",
            " [ 10   0 255]\n",
            " [173 255   0]\n",
            " [  0 255 153]\n",
            " [255  92   0]\n",
            " [255   0 255]\n",
            " [255   0 245]\n",
            " [255   0 102]\n",
            " [255 173   0]\n",
            " [255   0  20]\n",
            " [255 184 184]\n",
            " [  0  31 255]\n",
            " [  0 255  61]\n",
            " [  0  71 255]\n",
            " [255   0 204]\n",
            " [  0 255 194]\n",
            " [  0 255  82]\n",
            " [  0  10 255]\n",
            " [  0 112 255]\n",
            " [ 51   0 255]\n",
            " [  0 194 255]\n",
            " [  0 122 255]\n",
            " [  0 255 163]\n",
            " [255 153   0]\n",
            " [  0 255  10]\n",
            " [255 112   0]\n",
            " [143 255   0]\n",
            " [ 82   0 255]\n",
            " [163 255   0]\n",
            " [255 235   0]\n",
            " [  8 184 170]\n",
            " [133   0 255]\n",
            " [  0 255  92]\n",
            " [184   0 255]\n",
            " [255   0  31]\n",
            " [  0 184 255]\n",
            " [  0 214 255]\n",
            " [255   0 112]\n",
            " [ 92 255   0]\n",
            " [  0 224 255]\n",
            " [112 224 255]\n",
            " [ 70 184 160]\n",
            " [163   0 255]\n",
            " [153   0 255]\n",
            " [ 71 255   0]\n",
            " [255   0 163]\n",
            " [255 204   0]\n",
            " [255   0 143]\n",
            " [  0 255 235]\n",
            " [133 255   0]\n",
            " [255   0 235]\n",
            " [245   0 255]\n",
            " [255   0 122]\n",
            " [255 245   0]\n",
            " [ 10 190 212]\n",
            " [214 255   0]\n",
            " [  0 204 255]\n",
            " [ 20   0 255]\n",
            " [255 255   0]\n",
            " [  0 153 255]\n",
            " [  0  41 255]\n",
            " [  0 255 204]\n",
            " [ 41   0 255]\n",
            " [ 41 255   0]\n",
            " [173   0 255]\n",
            " [  0 245 255]\n",
            " [ 71   0 255]\n",
            " [122   0 255]\n",
            " [  0 255 184]\n",
            " [  0  92 255]\n",
            " [184 255   0]\n",
            " [  0 133 255]\n",
            " [255 214   0]\n",
            " [ 25 194 194]\n",
            " [102 255   0]\n",
            " [ 92   0 255]]\n"
          ],
          "name": "stdout"
        }
      ]
    },
    {
      "cell_type": "markdown",
      "metadata": {
        "id": "SZyNNYMFaVAz"
      },
      "source": [
        "### Create Instance maps directory"
      ]
    },
    {
      "cell_type": "code",
      "metadata": {
        "id": "Al0XFUNyaFh8"
      },
      "source": [
        "%mkdir Instance_maps\n",
        "%pwd\n",
        "! ls"
      ],
      "execution_count": null,
      "outputs": []
    },
    {
      "cell_type": "markdown",
      "metadata": {
        "id": "E48VTAxpaaAw"
      },
      "source": [
        "Verify the annotations_dir and Instance_maps names and run the below code"
      ]
    },
    {
      "cell_type": "code",
      "metadata": {
        "colab": {
          "base_uri": "https://localhost:8080/"
        },
        "id": "KXLpC-iBGd3U",
        "outputId": "1ecdef94-ce06-4050-c601-23bb082410c7"
      },
      "source": [
        "import glob\n",
        "images = glob.glob('/content/Final_semantic_images/*.png')\n",
        "print(len(images))"
      ],
      "execution_count": null,
      "outputs": [
        {
          "output_type": "stream",
          "text": [
            "60000\n"
          ],
          "name": "stdout"
        }
      ]
    },
    {
      "cell_type": "code",
      "metadata": {
        "id": "_aEHb3JIGpih"
      },
      "source": [
        "list_images = sorted(images)"
      ],
      "execution_count": null,
      "outputs": []
    },
    {
      "cell_type": "code",
      "metadata": {
        "colab": {
          "base_uri": "https://localhost:8080/",
          "height": 35
        },
        "id": "CqfXM40rJBrL",
        "outputId": "66968337-381f-4199-9755-1d7cad4f8a80"
      },
      "source": [
        "list_images[0]"
      ],
      "execution_count": null,
      "outputs": [
        {
          "output_type": "execute_result",
          "data": {
            "application/vnd.google.colaboratory.intrinsic+json": {
              "type": "string"
            },
            "text/plain": [
              "'/content/Final_semantic_images/beach_00000001.png'"
            ]
          },
          "metadata": {
            "tags": []
          },
          "execution_count": 32
        }
      ]
    },
    {
      "cell_type": "code",
      "metadata": {
        "colab": {
          "base_uri": "https://localhost:8080/"
        },
        "id": "4J07mZdGGz9p",
        "outputId": "db6bec9f-8b20-4b55-c544-a4a0220256e8"
      },
      "source": [
        "list_images[0]\n",
        "img = cv2.imread(list_images[0])\n",
        "img.shape"
      ],
      "execution_count": null,
      "outputs": [
        {
          "output_type": "execute_result",
          "data": {
            "text/plain": [
              "(256, 256, 3)"
            ]
          },
          "metadata": {
            "tags": []
          },
          "execution_count": 20
        }
      ]
    },
    {
      "cell_type": "code",
      "metadata": {
        "id": "pJrhx5PDZyVk"
      },
      "source": [
        "import numpy as np\n",
        "import random\n",
        "import os \n",
        "import cv2 \n",
        "\n",
        "from shutil import copy \n",
        "from tqdm import tqdm \n",
        "\n",
        "annotations_dir = \"/content/Final_semantic_images/\"\n",
        "annotations_files = os.listdir(annotations_dir)\n",
        "annotations_files = [os.path.join(os.path.realpath(\".\"), annotations_dir, x) for x in annotations_files]\n",
        "annotations_files = sorted(annotations_files)\n",
        "# print(annotations_files)\n",
        "\n",
        "for annotation in tqdm(annotations_files):\n",
        "    # for each file\n",
        "    img = cv2.imread(annotation)\n",
        "    img = cv2.cvtColor(img, cv2.COLOR_BGR2RGB)\n",
        "    h,w, _ = img.shape\n",
        "    \n",
        "    modified_annotation = np.zeros((h,w))\n",
        "    \n",
        "    for i,color in enumerate(colors):\n",
        "    \t# for each class color, i is the index value\n",
        "        color = color.reshape(1,1,-1)\n",
        "        mask = (color == img)\n",
        "        \n",
        "        r = mask[:,:,0]\n",
        "        g = mask[:,:,1]\n",
        "        b = mask[:,:,2]\n",
        "        \n",
        "        mask = np.logical_and(r,g)\n",
        "\n",
        "        mask = np.logical_and(mask, b).astype(np.int64)\n",
        "        \n",
        "        mask *= i\n",
        "        \n",
        "        modified_annotation += mask\n",
        "    \n",
        "    save_path = annotation.replace(annotations_dir, \"Instance_map_\")\n",
        "    cv2.imwrite(save_path, modified_annotation)\n",
        "print('DONE')"
      ],
      "execution_count": null,
      "outputs": []
    },
    {
      "cell_type": "code",
      "metadata": {
        "id": "Y-KKE-s9Ja_w"
      },
      "source": [
        "%ls"
      ],
      "execution_count": null,
      "outputs": []
    },
    {
      "cell_type": "code",
      "metadata": {
        "id": "pe_VIVr11i8L"
      },
      "source": [
        "img2 = cv2.imread('/content/Instance_maps/beach_00000001.png')\n",
        "print(img2)"
      ],
      "execution_count": null,
      "outputs": []
    },
    {
      "cell_type": "code",
      "metadata": {
        "id": "Ro_noqDNg8hp"
      },
      "source": [
        "!zip -r instance_maps.zip /content/Instance_maps\n",
        "!cp instance_maps.zip /content/drive/MyDrive"
      ],
      "execution_count": null,
      "outputs": []
    },
    {
      "cell_type": "code",
      "metadata": {
        "id": "JkDB3V1WHHl9"
      },
      "source": [
        "import numpy as np\n",
        "import random\n",
        "import os \n",
        "import cv2 \n",
        "\n",
        "from shutil import copy \n",
        "from tqdm import tqdm \n",
        "\n",
        "annotations_dir = \"/content/Final_semantic_images\"\n",
        "annotations_files = os.listdir(annotations_dir)\n",
        "annotations_files = [os.path.join(os.path.realpath(\".\"), annotations_dir, x) for x in annotations_files]\n",
        "annotations_files = sorted(annotations_files)\n",
        "# print(annotations_files)\n",
        "\n",
        "for annotation in range(len(list_images)):\n",
        "    # for each file\n",
        "    img = cv2.imread(list_images[annotation])\n",
        "    img = cv2.cvtColor(img, cv2.COLOR_BGR2RGB)\n",
        "    h,w, _ = img.shape\n",
        "    \n",
        "    modified_annotation = np.zeros((h,w))\n",
        "    \n",
        "    for i,color in enumerate(colors):\n",
        "    \t# for each class color, i is the index value\n",
        "        color = color.reshape(1,1,-1)\n",
        "        mask = (color == img)\n",
        "        \n",
        "        r = mask[:,:,0]\n",
        "        g = mask[:,:,1]\n",
        "        b = mask[:,:,2]\n",
        "        \n",
        "        mask = np.logical_and(r,g)\n",
        "\n",
        "        mask = np.logical_and(mask, b).astype(np.int64)\n",
        "        \n",
        "        mask *= i\n",
        "        \n",
        "        modified_annotation += mask\n",
        "    path = list_images[annotation]\n",
        "    save_path = path.replace(annotations_dir, \"Instance_map_\")\n",
        "    print(save_path)\n",
        "    cv2.imwrite(save_path, modified_annotation)\n",
        "print('DONE')"
      ],
      "execution_count": null,
      "outputs": []
    },
    {
      "cell_type": "code",
      "metadata": {
        "id": "had1Ue3sIfP7"
      },
      "source": [
        "% pwd"
      ],
      "execution_count": null,
      "outputs": []
    },
    {
      "cell_type": "code",
      "metadata": {
        "id": "dGdxswhGIhbO"
      },
      "source": [
        "cd /content/Instance_maps"
      ],
      "execution_count": null,
      "outputs": []
    },
    {
      "cell_type": "code",
      "metadata": {
        "id": "dB575ZFWI2cy"
      },
      "source": [
        "%ls"
      ],
      "execution_count": null,
      "outputs": []
    }
  ]
}